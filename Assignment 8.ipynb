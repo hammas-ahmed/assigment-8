{
 "cells": [
  {
   "cell_type": "code",
   "execution_count": 1,
   "id": "2140572e-aa5a-4947-8858-591e40c3b6c5",
   "metadata": {},
   "outputs": [],
   "source": [
    "import csv\n"
   ]
  },
  {
   "cell_type": "code",
   "execution_count": 2,
   "id": "b0f47c7d-78f9-4673-a7a3-b91788214168",
   "metadata": {},
   "outputs": [
    {
     "data": {
      "text/plain": [
       "<_io.TextIOWrapper name='company data.csv' mode='r' encoding='cp1252'>"
      ]
     },
     "execution_count": 2,
     "metadata": {},
     "output_type": "execute_result"
    }
   ],
   "source": [
    "file_open = open(\"company data.csv\", mode = \"r\")\n",
    "file_open"
   ]
  },
  {
   "cell_type": "code",
   "execution_count": 3,
   "id": "c27d4a5b-f6cb-4de8-9659-3b96056918c7",
   "metadata": {},
   "outputs": [
    {
     "data": {
      "text/plain": [
       "<_csv.reader at 0x238a715ffa0>"
      ]
     },
     "execution_count": 3,
     "metadata": {},
     "output_type": "execute_result"
    }
   ],
   "source": [
    "read_file = csv.reader(file_open)\n",
    "read_file"
   ]
  },
  {
   "cell_type": "code",
   "execution_count": 4,
   "id": "3c4b4db4-0710-4e1d-a64e-4cacae7e03e8",
   "metadata": {},
   "outputs": [
    {
     "data": {
      "text/plain": [
       "[['roll no', 'Name', 'Chemistry', 'Physics', 'Math'],\n",
       " ['101', 'Aliza', '50', '23', '87'],\n",
       " ['102', 'Fareed', '45', '24', '88'],\n",
       " ['103', 'Basit', '46', '25', '89'],\n",
       " ['104', 'Abdullah', '47', '26', '90'],\n",
       " ['105', 'Ali', '48', '27', '67'],\n",
       " ['106', 'Mubashir', '49', '28', '68'],\n",
       " ['107', 'Waleed', '50', '29', '69'],\n",
       " ['108', 'Mansoor', '51', '30', '70'],\n",
       " ['109', 'Zain', '52', '31', '71'],\n",
       " ['110', 'Mohsin', '53', '67', '72'],\n",
       " ['111', 'Shahmeer', '54', '68', '73'],\n",
       " ['112', 'Rao', '55', '69', '74'],\n",
       " ['113', 'Aurangzeb', '56', '70', '75'],\n",
       " ['114', 'Zeeshan', '57', '71', '76'],\n",
       " ['115', 'Hamna', '58', '72', '77'],\n",
       " ['116', 'Hamza', '59', '73', '78'],\n",
       " ['117', 'Khalid', '60', '74', '79'],\n",
       " ['118', 'Behroz', '61', '75', '80'],\n",
       " ['119', 'Justin', '62', '76', '81'],\n",
       " ['120', 'Danish', '63', '77', '82'],\n",
       " ['121', 'Kainat', '64', '78', '83'],\n",
       " ['122', 'Sameer', '65', '79', '84'],\n",
       " ['123', 'Raza', '66', '80', '85'],\n",
       " ['124', 'Kumar', '67', '81', '86'],\n",
       " ['125', 'Komal', '68', '82', '87'],\n",
       " ['126', 'Erum', '69', '83', '88'],\n",
       " ['127', 'Faiza', '70', '84', '89'],\n",
       " ['128', 'Saeed', '71', '85', '90'],\n",
       " ['129', 'Waqar', '72', '86', '91'],\n",
       " ['130', 'Wali', '73', '87', '92'],\n",
       " ['131', 'Wajid', '74', '88', '93'],\n",
       " ['132', 'Waseeb', '75', '89', '94'],\n",
       " ['133', 'Shiza', '76', '90', '95'],\n",
       " ['134', 'Shabina', '77', '91', '96'],\n",
       " ['135', 'Shazain', '78', '55', '97'],\n",
       " ['136', 'Lubna', '79', '61', '98'],\n",
       " ['137', 'Laiba', '80', '88', '78'],\n",
       " ['138', 'Khursheed', '81', '56', '45'],\n",
       " ['139', 'Ali', '82', '89', '46'],\n",
       " ['140', 'Aiza', '83', '45', '89'],\n",
       " ['141', 'Aiman', '84', '92', '78'],\n",
       " ['142', 'Yasmeen', '85', '36', '56'],\n",
       " ['143', 'Tasbeel', '86', '78', '78'],\n",
       " ['144', 'Laraib', '87', '56', '54'],\n",
       " ['145', 'Saleem', '88', '78', '78'],\n",
       " ['146', 'Bismil', '89', '89', '46'],\n",
       " ['147', 'Batool', '90', '56', '79'],\n",
       " ['148', 'Iqra', '91', '33', '46'],\n",
       " ['149', 'Zarnish', '92', '78', '45'],\n",
       " ['150', 'Zara', '83', '45', '56']]"
      ]
     },
     "execution_count": 4,
     "metadata": {},
     "output_type": "execute_result"
    }
   ],
   "source": [
    "data = list(read_file)\n",
    "data "
   ]
  },
  {
   "cell_type": "code",
   "execution_count": 5,
   "id": "33574ad0-3ec8-4c87-89de-ea6e62b9f124",
   "metadata": {},
   "outputs": [],
   "source": [
    "header = data[0]"
   ]
  },
  {
   "cell_type": "code",
   "execution_count": 6,
   "id": "9d559e0b-203d-4b48-a3d3-e9ee62da31bc",
   "metadata": {},
   "outputs": [
    {
     "data": {
      "text/plain": [
       "['roll no', 'Name', 'Chemistry', 'Physics', 'Math']"
      ]
     },
     "execution_count": 6,
     "metadata": {},
     "output_type": "execute_result"
    }
   ],
   "source": [
    "header"
   ]
  },
  {
   "cell_type": "code",
   "execution_count": 7,
   "id": "f05d3e68-f826-4cb1-bf84-67f6d99c1625",
   "metadata": {},
   "outputs": [
    {
     "data": {
      "text/plain": [
       "[['101', 'Aliza', '50', '23', '87'],\n",
       " ['102', 'Fareed', '45', '24', '88'],\n",
       " ['103', 'Basit', '46', '25', '89'],\n",
       " ['104', 'Abdullah', '47', '26', '90'],\n",
       " ['105', 'Ali', '48', '27', '67'],\n",
       " ['106', 'Mubashir', '49', '28', '68'],\n",
       " ['107', 'Waleed', '50', '29', '69'],\n",
       " ['108', 'Mansoor', '51', '30', '70'],\n",
       " ['109', 'Zain', '52', '31', '71'],\n",
       " ['110', 'Mohsin', '53', '67', '72'],\n",
       " ['111', 'Shahmeer', '54', '68', '73'],\n",
       " ['112', 'Rao', '55', '69', '74'],\n",
       " ['113', 'Aurangzeb', '56', '70', '75'],\n",
       " ['114', 'Zeeshan', '57', '71', '76'],\n",
       " ['115', 'Hamna', '58', '72', '77'],\n",
       " ['116', 'Hamza', '59', '73', '78'],\n",
       " ['117', 'Khalid', '60', '74', '79'],\n",
       " ['118', 'Behroz', '61', '75', '80'],\n",
       " ['119', 'Justin', '62', '76', '81'],\n",
       " ['120', 'Danish', '63', '77', '82'],\n",
       " ['121', 'Kainat', '64', '78', '83'],\n",
       " ['122', 'Sameer', '65', '79', '84'],\n",
       " ['123', 'Raza', '66', '80', '85'],\n",
       " ['124', 'Kumar', '67', '81', '86'],\n",
       " ['125', 'Komal', '68', '82', '87'],\n",
       " ['126', 'Erum', '69', '83', '88'],\n",
       " ['127', 'Faiza', '70', '84', '89'],\n",
       " ['128', 'Saeed', '71', '85', '90'],\n",
       " ['129', 'Waqar', '72', '86', '91'],\n",
       " ['130', 'Wali', '73', '87', '92'],\n",
       " ['131', 'Wajid', '74', '88', '93'],\n",
       " ['132', 'Waseeb', '75', '89', '94'],\n",
       " ['133', 'Shiza', '76', '90', '95'],\n",
       " ['134', 'Shabina', '77', '91', '96'],\n",
       " ['135', 'Shazain', '78', '55', '97'],\n",
       " ['136', 'Lubna', '79', '61', '98'],\n",
       " ['137', 'Laiba', '80', '88', '78'],\n",
       " ['138', 'Khursheed', '81', '56', '45'],\n",
       " ['139', 'Ali', '82', '89', '46'],\n",
       " ['140', 'Aiza', '83', '45', '89'],\n",
       " ['141', 'Aiman', '84', '92', '78'],\n",
       " ['142', 'Yasmeen', '85', '36', '56'],\n",
       " ['143', 'Tasbeel', '86', '78', '78'],\n",
       " ['144', 'Laraib', '87', '56', '54'],\n",
       " ['145', 'Saleem', '88', '78', '78'],\n",
       " ['146', 'Bismil', '89', '89', '46'],\n",
       " ['147', 'Batool', '90', '56', '79'],\n",
       " ['148', 'Iqra', '91', '33', '46'],\n",
       " ['149', 'Zarnish', '92', '78', '45'],\n",
       " ['150', 'Zara', '83', '45', '56']]"
      ]
     },
     "execution_count": 7,
     "metadata": {},
     "output_type": "execute_result"
    }
   ],
   "source": [
    "company_data = data[1:]\n",
    "company_data"
   ]
  },
  {
   "cell_type": "markdown",
   "id": "48313ba6-dcaf-4814-ae2f-10dc4f43774c",
   "metadata": {},
   "source": [
    "# PHYSICS MARKS AVERAGE \n"
   ]
  },
  {
   "cell_type": "code",
   "execution_count": 9,
   "id": "33c798f4-8af2-48bd-b1b1-e795e3c10591",
   "metadata": {},
   "outputs": [
    {
     "data": {
      "text/plain": [
       "[23.0,\n",
       " 24.0,\n",
       " 25.0,\n",
       " 26.0,\n",
       " 27.0,\n",
       " 28.0,\n",
       " 29.0,\n",
       " 30.0,\n",
       " 31.0,\n",
       " 67.0,\n",
       " 68.0,\n",
       " 69.0,\n",
       " 70.0,\n",
       " 71.0,\n",
       " 72.0,\n",
       " 73.0,\n",
       " 74.0,\n",
       " 75.0,\n",
       " 76.0,\n",
       " 77.0,\n",
       " 78.0,\n",
       " 79.0,\n",
       " 80.0,\n",
       " 81.0,\n",
       " 82.0,\n",
       " 83.0,\n",
       " 84.0,\n",
       " 85.0,\n",
       " 86.0,\n",
       " 87.0,\n",
       " 88.0,\n",
       " 89.0,\n",
       " 90.0,\n",
       " 91.0,\n",
       " 55.0,\n",
       " 61.0,\n",
       " 88.0,\n",
       " 56.0,\n",
       " 89.0,\n",
       " 45.0,\n",
       " 92.0,\n",
       " 36.0,\n",
       " 78.0,\n",
       " 56.0,\n",
       " 78.0,\n",
       " 89.0,\n",
       " 56.0,\n",
       " 33.0,\n",
       " 78.0,\n",
       " 45.0]"
      ]
     },
     "execution_count": 9,
     "metadata": {},
     "output_type": "execute_result"
    }
   ],
   "source": [
    "phy_marks = []\n",
    "for marks in company_data:\n",
    "    phy_marks.append(float(marks[3]))\n",
    "\n",
    "phy_marks"
   ]
  },
  {
   "cell_type": "code",
   "execution_count": 10,
   "id": "f2ea14a5-5938-4d8b-81c7-946c43f04f68",
   "metadata": {},
   "outputs": [
    {
     "data": {
      "text/plain": [
       "3253.0"
      ]
     },
     "execution_count": 10,
     "metadata": {},
     "output_type": "execute_result"
    }
   ],
   "source": [
    "sum(phy_marks)"
   ]
  },
  {
   "cell_type": "code",
   "execution_count": 11,
   "id": "5688b3fc-3711-42f2-bd3c-27c6f91e6569",
   "metadata": {},
   "outputs": [
    {
     "data": {
      "text/plain": [
       "50"
      ]
     },
     "execution_count": 11,
     "metadata": {},
     "output_type": "execute_result"
    }
   ],
   "source": [
    "len(phy_marks)"
   ]
  },
  {
   "cell_type": "code",
   "execution_count": 12,
   "id": "f2bb3ab5-a328-4135-86fa-2b08b2d8c8d5",
   "metadata": {},
   "outputs": [
    {
     "data": {
      "text/plain": [
       "65.1"
      ]
     },
     "execution_count": 12,
     "metadata": {},
     "output_type": "execute_result"
    }
   ],
   "source": [
    "avg_phy_marks = round(sum(phy_marks)/len(phy_marks),1)\n",
    "avg_phy_marks"
   ]
  },
  {
   "cell_type": "markdown",
   "id": "a63ecd5d-0a85-4626-9d63-0521d7c3ceaa",
   "metadata": {},
   "source": [
    "# MATHS MARKS AVERAGE"
   ]
  },
  {
   "cell_type": "code",
   "execution_count": 14,
   "id": "7c595083-1b26-4006-b507-5e9d50d6b1f6",
   "metadata": {},
   "outputs": [
    {
     "data": {
      "text/plain": [
       "[87.0,\n",
       " 88.0,\n",
       " 89.0,\n",
       " 90.0,\n",
       " 67.0,\n",
       " 68.0,\n",
       " 69.0,\n",
       " 70.0,\n",
       " 71.0,\n",
       " 72.0,\n",
       " 73.0,\n",
       " 74.0,\n",
       " 75.0,\n",
       " 76.0,\n",
       " 77.0,\n",
       " 78.0,\n",
       " 79.0,\n",
       " 80.0,\n",
       " 81.0,\n",
       " 82.0,\n",
       " 83.0,\n",
       " 84.0,\n",
       " 85.0,\n",
       " 86.0,\n",
       " 87.0,\n",
       " 88.0,\n",
       " 89.0,\n",
       " 90.0,\n",
       " 91.0,\n",
       " 92.0,\n",
       " 93.0,\n",
       " 94.0,\n",
       " 95.0,\n",
       " 96.0,\n",
       " 97.0,\n",
       " 98.0,\n",
       " 78.0,\n",
       " 45.0,\n",
       " 46.0,\n",
       " 89.0,\n",
       " 78.0,\n",
       " 56.0,\n",
       " 78.0,\n",
       " 54.0,\n",
       " 78.0,\n",
       " 46.0,\n",
       " 79.0,\n",
       " 46.0,\n",
       " 45.0,\n",
       " 56.0]"
      ]
     },
     "execution_count": 14,
     "metadata": {},
     "output_type": "execute_result"
    }
   ],
   "source": [
    "maths_marks = []\n",
    "for marks in company_data:\n",
    "    maths_marks.append(float(marks[4]))\n",
    "\n",
    "maths_marks"
   ]
  },
  {
   "cell_type": "code",
   "execution_count": 15,
   "id": "97a6f941-4ab3-4131-bec7-9ab8605fb2ee",
   "metadata": {},
   "outputs": [
    {
     "data": {
      "text/plain": [
       "3868.0"
      ]
     },
     "execution_count": 15,
     "metadata": {},
     "output_type": "execute_result"
    }
   ],
   "source": [
    "sum(maths_marks)"
   ]
  },
  {
   "cell_type": "code",
   "execution_count": 16,
   "id": "3c8d2cf7-cdc5-440d-854e-c0a737589620",
   "metadata": {},
   "outputs": [
    {
     "data": {
      "text/plain": [
       "50"
      ]
     },
     "execution_count": 16,
     "metadata": {},
     "output_type": "execute_result"
    }
   ],
   "source": [
    "len(maths_marks)"
   ]
  },
  {
   "cell_type": "code",
   "execution_count": 17,
   "id": "f5895928-0ae7-4186-81be-278f734ac17f",
   "metadata": {},
   "outputs": [
    {
     "data": {
      "text/plain": [
       "77.36"
      ]
     },
     "execution_count": 17,
     "metadata": {},
     "output_type": "execute_result"
    }
   ],
   "source": [
    "avg_maths_marks = sum(maths_marks)/len(maths_marks)\n",
    "avg_maths_marks"
   ]
  },
  {
   "cell_type": "markdown",
   "id": "56a9f384-6bda-40f5-b823-d7722086a8b6",
   "metadata": {},
   "source": [
    "# PERCENTAGE PRACTICE "
   ]
  },
  {
   "cell_type": "code",
   "execution_count": 19,
   "id": "dbeb3cfd-dbaf-436a-b0db-903a6a77886a",
   "metadata": {},
   "outputs": [],
   "source": [
    "for per in company_data:\n",
    "    chem = int(per[2])\n",
    "    phy = int(per[3])\n",
    "    maths = int(per[4])\n",
    "    percentage = round((chem+phy+maths)*100/300,2)\n",
    "    per.append(percentage)"
   ]
  },
  {
   "cell_type": "code",
   "execution_count": 20,
   "id": "da305ebc-0de9-4a99-b69d-439bae21f131",
   "metadata": {},
   "outputs": [
    {
     "data": {
      "text/plain": [
       "[['101', 'Aliza', '50', '23', '87', 53.33],\n",
       " ['102', 'Fareed', '45', '24', '88', 52.33],\n",
       " ['103', 'Basit', '46', '25', '89', 53.33],\n",
       " ['104', 'Abdullah', '47', '26', '90', 54.33],\n",
       " ['105', 'Ali', '48', '27', '67', 47.33],\n",
       " ['106', 'Mubashir', '49', '28', '68', 48.33],\n",
       " ['107', 'Waleed', '50', '29', '69', 49.33],\n",
       " ['108', 'Mansoor', '51', '30', '70', 50.33],\n",
       " ['109', 'Zain', '52', '31', '71', 51.33],\n",
       " ['110', 'Mohsin', '53', '67', '72', 64.0],\n",
       " ['111', 'Shahmeer', '54', '68', '73', 65.0],\n",
       " ['112', 'Rao', '55', '69', '74', 66.0],\n",
       " ['113', 'Aurangzeb', '56', '70', '75', 67.0],\n",
       " ['114', 'Zeeshan', '57', '71', '76', 68.0],\n",
       " ['115', 'Hamna', '58', '72', '77', 69.0],\n",
       " ['116', 'Hamza', '59', '73', '78', 70.0],\n",
       " ['117', 'Khalid', '60', '74', '79', 71.0],\n",
       " ['118', 'Behroz', '61', '75', '80', 72.0],\n",
       " ['119', 'Justin', '62', '76', '81', 73.0],\n",
       " ['120', 'Danish', '63', '77', '82', 74.0],\n",
       " ['121', 'Kainat', '64', '78', '83', 75.0],\n",
       " ['122', 'Sameer', '65', '79', '84', 76.0],\n",
       " ['123', 'Raza', '66', '80', '85', 77.0],\n",
       " ['124', 'Kumar', '67', '81', '86', 78.0],\n",
       " ['125', 'Komal', '68', '82', '87', 79.0],\n",
       " ['126', 'Erum', '69', '83', '88', 80.0],\n",
       " ['127', 'Faiza', '70', '84', '89', 81.0],\n",
       " ['128', 'Saeed', '71', '85', '90', 82.0],\n",
       " ['129', 'Waqar', '72', '86', '91', 83.0],\n",
       " ['130', 'Wali', '73', '87', '92', 84.0],\n",
       " ['131', 'Wajid', '74', '88', '93', 85.0],\n",
       " ['132', 'Waseeb', '75', '89', '94', 86.0],\n",
       " ['133', 'Shiza', '76', '90', '95', 87.0],\n",
       " ['134', 'Shabina', '77', '91', '96', 88.0],\n",
       " ['135', 'Shazain', '78', '55', '97', 76.67],\n",
       " ['136', 'Lubna', '79', '61', '98', 79.33],\n",
       " ['137', 'Laiba', '80', '88', '78', 82.0],\n",
       " ['138', 'Khursheed', '81', '56', '45', 60.67],\n",
       " ['139', 'Ali', '82', '89', '46', 72.33],\n",
       " ['140', 'Aiza', '83', '45', '89', 72.33],\n",
       " ['141', 'Aiman', '84', '92', '78', 84.67],\n",
       " ['142', 'Yasmeen', '85', '36', '56', 59.0],\n",
       " ['143', 'Tasbeel', '86', '78', '78', 80.67],\n",
       " ['144', 'Laraib', '87', '56', '54', 65.67],\n",
       " ['145', 'Saleem', '88', '78', '78', 81.33],\n",
       " ['146', 'Bismil', '89', '89', '46', 74.67],\n",
       " ['147', 'Batool', '90', '56', '79', 75.0],\n",
       " ['148', 'Iqra', '91', '33', '46', 56.67],\n",
       " ['149', 'Zarnish', '92', '78', '45', 71.67],\n",
       " ['150', 'Zara', '83', '45', '56', 61.33]]"
      ]
     },
     "execution_count": 20,
     "metadata": {},
     "output_type": "execute_result"
    }
   ],
   "source": [
    "company_data"
   ]
  },
  {
   "cell_type": "code",
   "execution_count": 21,
   "id": "8122b4c0-ec7f-4534-9054-87612fa24ab7",
   "metadata": {},
   "outputs": [],
   "source": [
    "data[0].append(\"Precentage\")"
   ]
  },
  {
   "cell_type": "code",
   "execution_count": 22,
   "id": "ef7ffc6d-2594-4a5d-ba87-6e0441817883",
   "metadata": {},
   "outputs": [
    {
     "data": {
      "text/plain": [
       "[['roll no', 'Name', 'Chemistry', 'Physics', 'Math', 'Precentage'],\n",
       " ['101', 'Aliza', '50', '23', '87', 53.33],\n",
       " ['102', 'Fareed', '45', '24', '88', 52.33],\n",
       " ['103', 'Basit', '46', '25', '89', 53.33],\n",
       " ['104', 'Abdullah', '47', '26', '90', 54.33],\n",
       " ['105', 'Ali', '48', '27', '67', 47.33],\n",
       " ['106', 'Mubashir', '49', '28', '68', 48.33],\n",
       " ['107', 'Waleed', '50', '29', '69', 49.33],\n",
       " ['108', 'Mansoor', '51', '30', '70', 50.33],\n",
       " ['109', 'Zain', '52', '31', '71', 51.33],\n",
       " ['110', 'Mohsin', '53', '67', '72', 64.0],\n",
       " ['111', 'Shahmeer', '54', '68', '73', 65.0],\n",
       " ['112', 'Rao', '55', '69', '74', 66.0],\n",
       " ['113', 'Aurangzeb', '56', '70', '75', 67.0],\n",
       " ['114', 'Zeeshan', '57', '71', '76', 68.0],\n",
       " ['115', 'Hamna', '58', '72', '77', 69.0],\n",
       " ['116', 'Hamza', '59', '73', '78', 70.0],\n",
       " ['117', 'Khalid', '60', '74', '79', 71.0],\n",
       " ['118', 'Behroz', '61', '75', '80', 72.0],\n",
       " ['119', 'Justin', '62', '76', '81', 73.0],\n",
       " ['120', 'Danish', '63', '77', '82', 74.0],\n",
       " ['121', 'Kainat', '64', '78', '83', 75.0],\n",
       " ['122', 'Sameer', '65', '79', '84', 76.0],\n",
       " ['123', 'Raza', '66', '80', '85', 77.0],\n",
       " ['124', 'Kumar', '67', '81', '86', 78.0],\n",
       " ['125', 'Komal', '68', '82', '87', 79.0],\n",
       " ['126', 'Erum', '69', '83', '88', 80.0],\n",
       " ['127', 'Faiza', '70', '84', '89', 81.0],\n",
       " ['128', 'Saeed', '71', '85', '90', 82.0],\n",
       " ['129', 'Waqar', '72', '86', '91', 83.0],\n",
       " ['130', 'Wali', '73', '87', '92', 84.0],\n",
       " ['131', 'Wajid', '74', '88', '93', 85.0],\n",
       " ['132', 'Waseeb', '75', '89', '94', 86.0],\n",
       " ['133', 'Shiza', '76', '90', '95', 87.0],\n",
       " ['134', 'Shabina', '77', '91', '96', 88.0],\n",
       " ['135', 'Shazain', '78', '55', '97', 76.67],\n",
       " ['136', 'Lubna', '79', '61', '98', 79.33],\n",
       " ['137', 'Laiba', '80', '88', '78', 82.0],\n",
       " ['138', 'Khursheed', '81', '56', '45', 60.67],\n",
       " ['139', 'Ali', '82', '89', '46', 72.33],\n",
       " ['140', 'Aiza', '83', '45', '89', 72.33],\n",
       " ['141', 'Aiman', '84', '92', '78', 84.67],\n",
       " ['142', 'Yasmeen', '85', '36', '56', 59.0],\n",
       " ['143', 'Tasbeel', '86', '78', '78', 80.67],\n",
       " ['144', 'Laraib', '87', '56', '54', 65.67],\n",
       " ['145', 'Saleem', '88', '78', '78', 81.33],\n",
       " ['146', 'Bismil', '89', '89', '46', 74.67],\n",
       " ['147', 'Batool', '90', '56', '79', 75.0],\n",
       " ['148', 'Iqra', '91', '33', '46', 56.67],\n",
       " ['149', 'Zarnish', '92', '78', '45', 71.67],\n",
       " ['150', 'Zara', '83', '45', '56', 61.33]]"
      ]
     },
     "execution_count": 22,
     "metadata": {},
     "output_type": "execute_result"
    }
   ],
   "source": [
    "data"
   ]
  },
  {
   "cell_type": "code",
   "execution_count": 24,
   "id": "0a119869-2877-4f59-af7a-7b7816683454",
   "metadata": {},
   "outputs": [
    {
     "data": {
      "text/plain": [
       "<_io.TextIOWrapper name='file.csv' mode='w' encoding='cp1252'>"
      ]
     },
     "execution_count": 24,
     "metadata": {},
     "output_type": "execute_result"
    }
   ],
   "source": [
    "file_open = open(\"file.csv\", mode=\"w\", newline=\"\")\n",
    "file_open"
   ]
  },
  {
   "cell_type": "code",
   "execution_count": 26,
   "id": "9c8ffbf0-b82c-4a4c-a56d-e666b1ca2bb7",
   "metadata": {},
   "outputs": [
    {
     "data": {
      "text/plain": [
       "<_csv.writer at 0x238aa513220>"
      ]
     },
     "execution_count": 26,
     "metadata": {},
     "output_type": "execute_result"
    }
   ],
   "source": [
    "writer = csv.writer(file_open)\n",
    "writer"
   ]
  },
  {
   "cell_type": "code",
   "execution_count": 28,
   "id": "eb661469-7f48-4520-8a5f-4e265e8c8176",
   "metadata": {},
   "outputs": [],
   "source": [
    "writer.writerows(data)"
   ]
  },
  {
   "cell_type": "code",
   "execution_count": 30,
   "id": "7179ec47-ac58-4f8d-8900-aad2fb8bf5ad",
   "metadata": {},
   "outputs": [],
   "source": [
    "file_open.close()"
   ]
  },
  {
   "cell_type": "code",
   "execution_count": null,
   "id": "23de54b3-60ab-4db0-b79d-ad12cd13767d",
   "metadata": {},
   "outputs": [],
   "source": []
  }
 ],
 "metadata": {
  "kernelspec": {
   "display_name": "Python 3 (ipykernel)",
   "language": "python",
   "name": "python3"
  },
  "language_info": {
   "codemirror_mode": {
    "name": "ipython",
    "version": 3
   },
   "file_extension": ".py",
   "mimetype": "text/x-python",
   "name": "python",
   "nbconvert_exporter": "python",
   "pygments_lexer": "ipython3",
   "version": "3.12.4"
  }
 },
 "nbformat": 4,
 "nbformat_minor": 5
}
